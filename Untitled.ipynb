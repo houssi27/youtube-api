{
 "cells": [
  {
   "cell_type": "code",
   "execution_count": 1,
   "id": "7f0f310f",
   "metadata": {},
   "outputs": [],
   "source": [
    "import pandas as pd"
   ]
  },
  {
   "cell_type": "code",
   "execution_count": 3,
   "id": "c0ed51a8",
   "metadata": {},
   "outputs": [],
   "source": [
    "df = pd.read_json(\"test.json\")"
   ]
  },
  {
   "cell_type": "code",
   "execution_count": 4,
   "id": "96f1ef41",
   "metadata": {},
   "outputs": [
    {
     "data": {
      "text/html": [
       "<div>\n",
       "<style scoped>\n",
       "    .dataframe tbody tr th:only-of-type {\n",
       "        vertical-align: middle;\n",
       "    }\n",
       "\n",
       "    .dataframe tbody tr th {\n",
       "        vertical-align: top;\n",
       "    }\n",
       "\n",
       "    .dataframe thead th {\n",
       "        text-align: right;\n",
       "    }\n",
       "</style>\n",
       "<table border=\"1\" class=\"dataframe\">\n",
       "  <thead>\n",
       "    <tr style=\"text-align: right;\">\n",
       "      <th></th>\n",
       "      <th>UCZ3wH-v5zOcq4ZZWI58TGKA</th>\n",
       "    </tr>\n",
       "  </thead>\n",
       "  <tbody>\n",
       "    <tr>\n",
       "      <th>channel_statistics</th>\n",
       "      <td>{'viewCount': '33738849', 'subscriberCount': '...</td>\n",
       "    </tr>\n",
       "    <tr>\n",
       "      <th>video_data</th>\n",
       "      <td>{'UPtlczBvGEw': {'viewCount': '200463', 'likeC...</td>\n",
       "    </tr>\n",
       "  </tbody>\n",
       "</table>\n",
       "</div>"
      ],
      "text/plain": [
       "                                             UCZ3wH-v5zOcq4ZZWI58TGKA\n",
       "channel_statistics  {'viewCount': '33738849', 'subscriberCount': '...\n",
       "video_data          {'UPtlczBvGEw': {'viewCount': '200463', 'likeC..."
      ]
     },
     "execution_count": 4,
     "metadata": {},
     "output_type": "execute_result"
    }
   ],
   "source": [
    "df"
   ]
  },
  {
   "cell_type": "code",
   "execution_count": 5,
   "id": "2309ad96",
   "metadata": {},
   "outputs": [],
   "source": [
    "li = [{'viewCount': '201994', 'likeCount': '4349', 'dislikeCount': '92', 'favoriteCount': '0', 'commentCount': '257', 'duration': 'PT4M3S', 'dimension': '2d', 'definition': 'hd', 'caption': 'false', 'licensedContent': True, 'contentRating': {}, 'projection': 'rectangular'}, {'viewCount': '263224', 'likeCount': '5763', 'dislikeCount': '83', 'favoriteCount': '0', 'commentCount': '484', 'duration': 'PT20M54S', 'dimension': '2d', 'definition': 'hd', 'caption': 'true', 'licensedContent': True, 'contentRating': {}, 'projection': 'rectangular'}]\n"
   ]
  },
  {
   "cell_type": "code",
   "execution_count": 20,
   "id": "4e45df03",
   "metadata": {},
   "outputs": [],
   "source": [
    "p = \"DSFEZA\""
   ]
  },
  {
   "cell_type": "code",
   "execution_count": 22,
   "id": "9677c161",
   "metadata": {},
   "outputs": [],
   "source": [
    "k = list(li[0].values()) + ['201994', '4349', '92', '0', '257', 'PT4M3S', '2d', 'hd', 'false', True, {}, 'rectangular'] + list(p)"
   ]
  },
  {
   "cell_type": "code",
   "execution_count": 25,
   "id": "8987078d",
   "metadata": {},
   "outputs": [
    {
     "data": {
      "text/plain": [
       "['DSFEZA']"
      ]
     },
     "execution_count": 25,
     "metadata": {},
     "output_type": "execute_result"
    }
   ],
   "source": [
    "p.split()"
   ]
  },
  {
   "cell_type": "code",
   "execution_count": 27,
   "id": "1f847072",
   "metadata": {},
   "outputs": [],
   "source": [
    "k[10]='0'"
   ]
  },
  {
   "cell_type": "code",
   "execution_count": 28,
   "id": "e26baae8",
   "metadata": {},
   "outputs": [
    {
     "data": {
      "text/plain": [
       "['201994',\n",
       " '4349',\n",
       " '92',\n",
       " '0',\n",
       " '257',\n",
       " 'PT4M3S',\n",
       " '2d',\n",
       " 'hd',\n",
       " 'false',\n",
       " True,\n",
       " '0',\n",
       " 'rectangular',\n",
       " '201994',\n",
       " '4349',\n",
       " '92',\n",
       " '0',\n",
       " '257',\n",
       " 'PT4M3S',\n",
       " '2d',\n",
       " 'hd',\n",
       " 'false',\n",
       " True,\n",
       " {},\n",
       " 'rectangular',\n",
       " 'D',\n",
       " 'S',\n",
       " 'F',\n",
       " 'E',\n",
       " 'Z',\n",
       " 'A']"
      ]
     },
     "execution_count": 28,
     "metadata": {},
     "output_type": "execute_result"
    }
   ],
   "source": [
    "k"
   ]
  },
  {
   "cell_type": "code",
   "execution_count": 1,
   "id": "cc84cd0d",
   "metadata": {},
   "outputs": [],
   "source": [
    "lista = [1,2,{},3]"
   ]
  },
  {
   "cell_type": "code",
   "execution_count": 2,
   "id": "0fbb6060",
   "metadata": {},
   "outputs": [
    {
     "data": {
      "text/plain": [
       "dict"
      ]
     },
     "execution_count": 2,
     "metadata": {},
     "output_type": "execute_result"
    }
   ],
   "source": [
    "type(lista[2])"
   ]
  },
  {
   "cell_type": "code",
   "execution_count": 3,
   "id": "942296e2",
   "metadata": {},
   "outputs": [],
   "source": [
    "lista[2]=None"
   ]
  },
  {
   "cell_type": "code",
   "execution_count": 4,
   "id": "9d80606d",
   "metadata": {},
   "outputs": [
    {
     "data": {
      "text/plain": [
       "[1, 2, None, 3]"
      ]
     },
     "execution_count": 4,
     "metadata": {},
     "output_type": "execute_result"
    }
   ],
   "source": [
    "lista"
   ]
  },
  {
   "cell_type": "code",
   "execution_count": null,
   "id": "39952607",
   "metadata": {},
   "outputs": [],
   "source": []
  }
 ],
 "metadata": {
  "kernelspec": {
   "display_name": "Python 3",
   "language": "python",
   "name": "python3"
  },
  "language_info": {
   "codemirror_mode": {
    "name": "ipython",
    "version": 3
   },
   "file_extension": ".py",
   "mimetype": "text/x-python",
   "name": "python",
   "nbconvert_exporter": "python",
   "pygments_lexer": "ipython3",
   "version": "3.8.8"
  }
 },
 "nbformat": 4,
 "nbformat_minor": 5
}
